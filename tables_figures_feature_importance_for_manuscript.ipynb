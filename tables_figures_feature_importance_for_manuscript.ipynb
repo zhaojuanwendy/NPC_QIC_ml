{
 "cells": [
  {
   "cell_type": "code",
   "execution_count": 179,
   "metadata": {},
   "outputs": [],
   "source": [
    "import pandas as pd\n",
    "import numpy as np\n",
    "import seaborn as sns\n",
    "from pathlib import Path\n",
    "import matplotlib as mpl\n",
    "import matplotlib.pyplot as plt\n",
    "import shap\n",
    "import math"
   ]
  },
  {
   "cell_type": "markdown",
   "metadata": {},
   "source": [
    "### Summary characteristics of the patients in this study"
   ]
  },
  {
   "cell_type": "code",
   "execution_count": 180,
   "metadata": {},
   "outputs": [],
   "source": [
    "DATA_PATH = './data'\n",
    "df = pd.read_csv(\n",
    "        Path(DATA_PATH) / 'processed' / 'merged_data_removed_high_missing_features.csv')\n",
    "# cohort = df.drop(['site_deid', 'subject_deid', 'followup_time'], axis=1)"
   ]
  },
  {
   "cell_type": "code",
   "execution_count": 181,
   "metadata": {},
   "outputs": [
    {
     "data": {
      "text/plain": [
       "<AxesSubplot:xlabel='interstage_mortality', ylabel='s1_cpbtime_min'>"
      ]
     },
     "execution_count": 181,
     "metadata": {},
     "output_type": "execute_result"
    },
    {
     "data": {
      "image/png": "[encoded data removed]",
      "text/plain": [
       "<Figure size 432x288 with 1 Axes>"
      ]
     },
     "metadata": {
      "needs_background": "light"
     },
     "output_type": "display_data"
    }
   ],
   "source": [
    "sns.boxplot(y = df['s1_cpbtime_min'], x=df['interstage_mortality'])"
   ]
  },
  {
   "cell_type": "code",
   "execution_count": 182,
   "metadata": {},
   "outputs": [
    {
     "data": {
      "text/plain": [
       "<AxesSubplot:xlabel='interstage_mortality', ylabel='year'>"
      ]
     },
     "execution_count": 182,
     "metadata": {},
     "output_type": "execute_result"
    },
    {
     "data": {
      "image/png": "[encoded data removed]",
      "text/plain": [
       "<Figure size 432x288 with 1 Axes>"
      ]
     },
     "metadata": {
      "needs_background": "light"
     },
     "output_type": "display_data"
    }
   ],
   "source": [
    "sns.boxplot(y = df['year'], x=df['interstage_mortality'])"
   ]
  },
  {
   "cell_type": "code",
   "execution_count": 183,
   "metadata": {},
   "outputs": [
    {
     "data": {
      "text/plain": [
       "(3267, 184)"
      ]
     },
     "execution_count": 183,
     "metadata": {},
     "output_type": "execute_result"
    }
   ],
   "source": [
    "df.shape"
   ]
  },
  {
   "cell_type": "code",
   "execution_count": 184,
   "metadata": {},
   "outputs": [
    {
     "data": {
      "text/html": [
       "<div>\n",
       "<style scoped>\n",
       "    .dataframe tbody tr th:only-of-type {\n",
       "        vertical-align: middle;\n",
       "    }\n",
       "\n",
       "    .dataframe tbody tr th {\n",
       "        vertical-align: top;\n",
       "    }\n",
       "\n",
       "    .dataframe thead th {\n",
       "        text-align: right;\n",
       "    }\n",
       "</style>\n",
       "<table border=\"1\" class=\"dataframe\">\n",
       "  <thead>\n",
       "    <tr style=\"text-align: right;\">\n",
       "      <th></th>\n",
       "      <th>site_deid</th>\n",
       "      <th>subject_deid</th>\n",
       "      <th>fetal_diagnosis</th>\n",
       "      <th>fetal_intervention</th>\n",
       "      <th>fetalintervention_aov</th>\n",
       "      <th>fetalintervention_asd</th>\n",
       "      <th>fetalintervention_pm</th>\n",
       "      <th>fetalintervention_other</th>\n",
       "      <th>year</th>\n",
       "      <th>anomalies_cns</th>\n",
       "      <th>...</th>\n",
       "      <th>Norwood_Sano_DKS_Conduit</th>\n",
       "      <th>s1d_followup_Surgical_Center</th>\n",
       "      <th>s1d_followup_Outside_Center</th>\n",
       "      <th>s1d_followup_comb</th>\n",
       "      <th>s1d_followup_other</th>\n",
       "      <th>hlhs_type_missing_indicator</th>\n",
       "      <th>hlhs_type_MA_AA</th>\n",
       "      <th>hlhs_type_MS_AA</th>\n",
       "      <th>hlhs_type_MA_AS</th>\n",
       "      <th>hlhs_type_MS_AS</th>\n",
       "    </tr>\n",
       "  </thead>\n",
       "  <tbody>\n",
       "    <tr>\n",
       "      <th>0</th>\n",
       "      <td>5</td>\n",
       "      <td>2067</td>\n",
       "      <td>0.0</td>\n",
       "      <td>0.0</td>\n",
       "      <td>0</td>\n",
       "      <td>0</td>\n",
       "      <td>0</td>\n",
       "      <td>0</td>\n",
       "      <td>2014</td>\n",
       "      <td>0</td>\n",
       "      <td>...</td>\n",
       "      <td>0</td>\n",
       "      <td>1</td>\n",
       "      <td>0</td>\n",
       "      <td>0</td>\n",
       "      <td>0</td>\n",
       "      <td>1</td>\n",
       "      <td>0</td>\n",
       "      <td>0</td>\n",
       "      <td>0</td>\n",
       "      <td>0</td>\n",
       "    </tr>\n",
       "    <tr>\n",
       "      <th>1</th>\n",
       "      <td>4</td>\n",
       "      <td>1218</td>\n",
       "      <td>1.0</td>\n",
       "      <td>0.0</td>\n",
       "      <td>0</td>\n",
       "      <td>0</td>\n",
       "      <td>0</td>\n",
       "      <td>0</td>\n",
       "      <td>2012</td>\n",
       "      <td>0</td>\n",
       "      <td>...</td>\n",
       "      <td>1</td>\n",
       "      <td>0</td>\n",
       "      <td>0</td>\n",
       "      <td>1</td>\n",
       "      <td>0</td>\n",
       "      <td>0</td>\n",
       "      <td>0</td>\n",
       "      <td>0</td>\n",
       "      <td>1</td>\n",
       "      <td>0</td>\n",
       "    </tr>\n",
       "    <tr>\n",
       "      <th>2</th>\n",
       "      <td>34</td>\n",
       "      <td>3932</td>\n",
       "      <td>1.0</td>\n",
       "      <td>0.0</td>\n",
       "      <td>0</td>\n",
       "      <td>0</td>\n",
       "      <td>0</td>\n",
       "      <td>0</td>\n",
       "      <td>2019</td>\n",
       "      <td>0</td>\n",
       "      <td>...</td>\n",
       "      <td>1</td>\n",
       "      <td>1</td>\n",
       "      <td>0</td>\n",
       "      <td>0</td>\n",
       "      <td>0</td>\n",
       "      <td>0</td>\n",
       "      <td>0</td>\n",
       "      <td>1</td>\n",
       "      <td>0</td>\n",
       "      <td>0</td>\n",
       "    </tr>\n",
       "    <tr>\n",
       "      <th>3</th>\n",
       "      <td>34</td>\n",
       "      <td>441</td>\n",
       "      <td>NaN</td>\n",
       "      <td>NaN</td>\n",
       "      <td>0</td>\n",
       "      <td>0</td>\n",
       "      <td>0</td>\n",
       "      <td>0</td>\n",
       "      <td>2013</td>\n",
       "      <td>0</td>\n",
       "      <td>...</td>\n",
       "      <td>1</td>\n",
       "      <td>1</td>\n",
       "      <td>0</td>\n",
       "      <td>0</td>\n",
       "      <td>0</td>\n",
       "      <td>0</td>\n",
       "      <td>1</td>\n",
       "      <td>0</td>\n",
       "      <td>0</td>\n",
       "      <td>0</td>\n",
       "    </tr>\n",
       "    <tr>\n",
       "      <th>4</th>\n",
       "      <td>3</td>\n",
       "      <td>4400</td>\n",
       "      <td>1.0</td>\n",
       "      <td>0.0</td>\n",
       "      <td>0</td>\n",
       "      <td>0</td>\n",
       "      <td>0</td>\n",
       "      <td>0</td>\n",
       "      <td>2016</td>\n",
       "      <td>0</td>\n",
       "      <td>...</td>\n",
       "      <td>1</td>\n",
       "      <td>1</td>\n",
       "      <td>0</td>\n",
       "      <td>0</td>\n",
       "      <td>0</td>\n",
       "      <td>1</td>\n",
       "      <td>0</td>\n",
       "      <td>0</td>\n",
       "      <td>0</td>\n",
       "      <td>0</td>\n",
       "    </tr>\n",
       "  </tbody>\n",
       "</table>\n",
       "<p>5 rows × 184 columns</p>\n",
       "</div>"
      ],
      "text/plain": [
       "   site_deid  subject_deid  fetal_diagnosis  fetal_intervention  \\\n",
       "0          5          2067              0.0                 0.0   \n",
       "1          4          1218              1.0                 0.0   \n",
       "2         34          3932              1.0                 0.0   \n",
       "3         34           441              NaN                 NaN   \n",
       "4          3          4400              1.0                 0.0   \n",
       "\n",
       "   fetalintervention_aov  fetalintervention_asd  fetalintervention_pm  \\\n",
       "0                      0                      0                     0   \n",
       "1                      0                      0                     0   \n",
       "2                      0                      0                     0   \n",
       "3                      0                      0                     0   \n",
       "4                      0                      0                     0   \n",
       "\n",
       "   fetalintervention_other  year  anomalies_cns  ...  \\\n",
       "0                        0  2014              0  ...   \n",
       "1                        0  2012              0  ...   \n",
       "2                        0  2019              0  ...   \n",
       "3                        0  2013              0  ...   \n",
       "4                        0  2016              0  ...   \n",
       "\n",
       "   Norwood_Sano_DKS_Conduit  s1d_followup_Surgical_Center  \\\n",
       "0                         0                             1   \n",
       "1                         1                             0   \n",
       "2                         1                             1   \n",
       "3                         1                             1   \n",
       "4                         1                             1   \n",
       "\n",
       "   s1d_followup_Outside_Center  s1d_followup_comb  s1d_followup_other  \\\n",
       "0                            0                  0                   0   \n",
       "1                            0                  1                   0   \n",
       "2                            0                  0                   0   \n",
       "3                            0                  0                   0   \n",
       "4                            0                  0                   0   \n",
       "\n",
       "   hlhs_type_missing_indicator  hlhs_type_MA_AA  hlhs_type_MS_AA  \\\n",
       "0                            1                0                0   \n",
       "1                            0                0                0   \n",
       "2                            0                0                1   \n",
       "3                            0                1                0   \n",
       "4                            1                0                0   \n",
       "\n",
       "   hlhs_type_MA_AS  hlhs_type_MS_AS  \n",
       "0                0                0  \n",
       "1                1                0  \n",
       "2                0                0  \n",
       "3                0                0  \n",
       "4                0                0  \n",
       "\n",
       "[5 rows x 184 columns]"
      ]
     },
     "execution_count": 184,
     "metadata": {},
     "output_type": "execute_result"
    }
   ],
   "source": [
    "df.head()"
   ]
  },
  {
   "cell_type": "code",
   "execution_count": 185,
   "metadata": {},
   "outputs": [
    {
     "data": {
      "text/plain": [
       "<seaborn.axisgrid.FacetGrid at 0x7fa81c62e710>"
      ]
     },
     "execution_count": 185,
     "metadata": {},
     "output_type": "execute_result"
    },
    {
     "data": {
      "image/png": "[encoded data removed]",
      "text/plain": [
       "<Figure size 360x360 with 1 Axes>"
      ]
     },
     "metadata": {
      "needs_background": "light"
     },
     "output_type": "display_data"
    }
   ],
   "source": [
    "sns.displot(df['gestational_age'])"
   ]
  },
  {
   "cell_type": "code",
   "execution_count": 186,
   "metadata": {},
   "outputs": [],
   "source": [
    "def _cal_median_quantile(df, feature):\n",
    "    quantile = df[feature].quantile([0.25,0.5,0.75])\n",
    "    median = quantile[0.5]\n",
    "    lcq_low = quantile[0.25]\n",
    "    lcq_high = quantile[0.75]\n",
    "    return median, lcq_low, lcq_high"
   ]
  },
  {
   "cell_type": "code",
   "execution_count": 187,
   "metadata": {},
   "outputs": [],
   "source": [
    "class Cohort:\n",
    "    def __init__(self,df,outcome, cohort_name=''):\n",
    "        self.data = df\n",
    "        self.outcome = outcome\n",
    "        self.features = list(df.drop(['interstage_mortality'], axis=1).columns)\n",
    "        self.total_sample_size = self.data.shape[0]\n",
    "        self.feature_size = self.data.shape[0]-1\n",
    "        self.cohort_name = cohort_name\n",
    "        print(\"%s: total_sample_size %d\" % (self.cohort_name, self.total_sample_size))\n",
    "        \n",
    "    def get_median_quantile(self,feature):\n",
    "        median, lcq_low, lcq_high = _cal_median_quantile(self.data,feature)\n",
    "        print('%s %s: %d (%d, %d)' % (self.cohort_name, feature, median, lcq_low, lcq_high))\n",
    "        return median, lcq_low, lcq_high\n",
    "    \n",
    "    def get_percentage(self,feature):\n",
    "        fea_unique_values = self.data[feature].unique()\n",
    "        for f_value in fea_unique_values:\n",
    "            if math.isnan(f_value):\n",
    "                sample_size = self.data[feature].isnull().sum()\n",
    "            else:\n",
    "                sample_size = self.data[self.data[feature]==f_value].shape[0]   \n",
    "                \n",
    "            percentage = sample_size/self.total_sample_size\n",
    "            print(\"%s - %s %s: %d (%.1f%%)\" % ( self.cohort_name, feature, f_value, sample_size, 100*percentage))\n",
    "    \n",
    "    def get_mean_std(self,feature):\n",
    "        return int(self.data[feature].mean()), self.data[feature].std()"
   ]
  },
  {
   "cell_type": "code",
   "execution_count": 188,
   "metadata": {},
   "outputs": [
    {
     "name": "stdout",
     "output_type": "stream",
     "text": [
      "Overall: total_sample_size 3267\n",
      "Cases: total_sample_size 208\n",
      "Controls: total_sample_size 3059\n"
     ]
    }
   ],
   "source": [
    "cohort = Cohort(df, 'interstage_mortality', 'Overall')\n",
    "cases = Cohort(df[df['interstage_mortality']==1], 'interstage_mortality', 'Cases')\n",
    "controls = Cohort(df[df['interstage_mortality']==0], 'interstage_mortality', 'Controls')"
   ]
  },
  {
   "cell_type": "code",
   "execution_count": 189,
   "metadata": {},
   "outputs": [
    {
     "name": "stdout",
     "output_type": "stream",
     "text": [
      "Overall gestational_age: 39 (38, 39)\n",
      "Controls gestational_age: 39 (38, 39)\n",
      "Cases gestational_age: 39 (37, 39)\n"
     ]
    },
    {
     "data": {
      "text/plain": [
       "(39.0, 37.0, 39.0)"
      ]
     },
     "execution_count": 189,
     "metadata": {},
     "output_type": "execute_result"
    }
   ],
   "source": [
    "cohort.get_median_quantile('gestational_age')\n",
    "controls.get_median_quantile('gestational_age')\n",
    "cases.get_median_quantile('gestational_age')"
   ]
  },
  {
   "cell_type": "code",
   "execution_count": 190,
   "metadata": {},
   "outputs": [
    {
     "name": "stdout",
     "output_type": "stream",
     "text": [
      "Overall birthweight: 3 (3, 4)\n",
      "Controls birthweight: 3 (3, 4)\n",
      "Cases birthweight: 3 (3, 3)\n"
     ]
    },
    {
     "data": {
      "text/plain": [
       "(3.0, 3.0, 3.0)"
      ]
     },
     "execution_count": 190,
     "metadata": {},
     "output_type": "execute_result"
    }
   ],
   "source": [
    "cohort.get_median_quantile('birthweight')\n",
    "controls.get_median_quantile('birthweight')\n",
    "cases.get_median_quantile('birthweight')"
   ]
  },
  {
   "cell_type": "code",
   "execution_count": 191,
   "metadata": {},
   "outputs": [
    {
     "name": "stdout",
     "output_type": "stream",
     "text": [
      "Overall s1_cpbtime_min: 149 (119, 184)\n",
      "Controls s1_cpbtime_min: 149 (119, 184)\n",
      "Cases s1_cpbtime_min: 149 (116, 183)\n"
     ]
    },
    {
     "data": {
      "text/plain": [
       "(149.0, 116.0, 183.0)"
      ]
     },
     "execution_count": 191,
     "metadata": {},
     "output_type": "execute_result"
    }
   ],
   "source": [
    "cohort.get_median_quantile('s1_cpbtime_min')\n",
    "controls.get_median_quantile('s1_cpbtime_min')\n",
    "cases.get_median_quantile('s1_cpbtime_min')"
   ]
  },
  {
   "cell_type": "code",
   "execution_count": 192,
   "metadata": {},
   "outputs": [
    {
     "name": "stdout",
     "output_type": "stream",
     "text": [
      "Overall age_at_extubation: 13 (9, 19)\n",
      "Controls age_at_extubation: 12 (9, 19)\n",
      "Cases age_at_extubation: 15 (10, 24)\n"
     ]
    },
    {
     "data": {
      "text/plain": [
       "(15.0, 10.0, 24.0)"
      ]
     },
     "execution_count": 192,
     "metadata": {},
     "output_type": "execute_result"
    }
   ],
   "source": [
    "#Age at first extubation \n",
    "cohort.get_median_quantile('age_at_extubation')\n",
    "controls.get_median_quantile('age_at_extubation')\n",
    "cases.get_median_quantile('age_at_extubation')"
   ]
  },
  {
   "cell_type": "code",
   "execution_count": 193,
   "metadata": {},
   "outputs": [
    {
     "name": "stdout",
     "output_type": "stream",
     "text": [
      "Overall year: 2015 (2012, 2017)\n",
      "Controls year: 2015 (2012, 2017)\n",
      "Cases year: 2014 (2012, 2016)\n"
     ]
    },
    {
     "data": {
      "text/plain": [
       "(2014.0, 2012.0, 2016.0)"
      ]
     },
     "execution_count": 193,
     "metadata": {},
     "output_type": "execute_result"
    }
   ],
   "source": [
    "#Age at first extubation \n",
    "cohort.get_median_quantile('year')\n",
    "controls.get_median_quantile('year')\n",
    "cases.get_median_quantile('year')"
   ]
  },
  {
   "cell_type": "code",
   "execution_count": 194,
   "metadata": {},
   "outputs": [
    {
     "name": "stdout",
     "output_type": "stream",
     "text": [
      "Overall - digoxin_at_dc 0: 1835 (56.2%)\n",
      "Overall - digoxin_at_dc 1: 1432 (43.8%)\n",
      "Controls - digoxin_at_dc 0: 1687 (55.1%)\n",
      "Controls - digoxin_at_dc 1: 1372 (44.9%)\n",
      "Cases - digoxin_at_dc 0: 148 (71.2%)\n",
      "Cases - digoxin_at_dc 1: 60 (28.8%)\n"
     ]
    }
   ],
   "source": [
    "cohort.get_percentage('digoxin_at_dc')\n",
    "controls.get_percentage('digoxin_at_dc')\n",
    "cases.get_percentage('digoxin_at_dc')"
   ]
  },
  {
   "cell_type": "code",
   "execution_count": 195,
   "metadata": {},
   "outputs": [
    {
     "name": "stdout",
     "output_type": "stream",
     "text": [
      "Overall - sex 1.0: 2021 (61.9%)\n",
      "Overall - sex 2.0: 1243 (38.0%)\n",
      "Overall - sex nan: 3 (0.1%)\n",
      "Controls - sex 1.0: 1913 (62.5%)\n",
      "Controls - sex 2.0: 1144 (37.4%)\n",
      "Controls - sex nan: 2 (0.1%)\n",
      "Cases - sex 2.0: 99 (47.6%)\n",
      "Cases - sex 1.0: 108 (51.9%)\n",
      "Cases - sex nan: 1 (0.5%)\n"
     ]
    }
   ],
   "source": [
    "cohort.get_percentage('sex')\n",
    "controls.get_percentage('sex')\n",
    "cases.get_percentage('sex')"
   ]
  },
  {
   "cell_type": "code",
   "execution_count": 196,
   "metadata": {},
   "outputs": [],
   "source": [
    "# cohort.get_percentage('race')\n",
    "# controls.get_percentage('race')\n",
    "# cases.get_percentage('race')"
   ]
  },
  {
   "cell_type": "code",
   "execution_count": 197,
   "metadata": {},
   "outputs": [
    {
     "name": "stdout",
     "output_type": "stream",
     "text": [
      "Overall - ethnicity 0.0: 2578 (78.9%)\n",
      "Overall - ethnicity 1.0: 550 (16.8%)\n",
      "Overall - ethnicity nan: 139 (4.3%)\n",
      "Controls - ethnicity 0.0: 2422 (79.2%)\n",
      "Controls - ethnicity 1.0: 506 (16.5%)\n",
      "Controls - ethnicity nan: 131 (4.3%)\n",
      "Cases - ethnicity 0.0: 156 (75.0%)\n",
      "Cases - ethnicity 1.0: 44 (21.2%)\n",
      "Cases - ethnicity nan: 8 (3.8%)\n"
     ]
    }
   ],
   "source": [
    "cohort.get_percentage('ethnicity')\n",
    "controls.get_percentage('ethnicity')\n",
    "cases.get_percentage('ethnicity')"
   ]
  },
  {
   "cell_type": "code",
   "execution_count": 198,
   "metadata": {},
   "outputs": [
    {
     "name": "stdout",
     "output_type": "stream",
     "text": [
      "Overall - Norwood_BT_DKS_Shunt 0: 2238 (68.5%)\n",
      "Overall - Norwood_BT_DKS_Shunt 1: 1029 (31.5%)\n",
      "Controls - Norwood_BT_DKS_Shunt 0: 2110 (69.0%)\n",
      "Controls - Norwood_BT_DKS_Shunt 1: 949 (31.0%)\n",
      "Cases - Norwood_BT_DKS_Shunt 0: 128 (61.5%)\n",
      "Cases - Norwood_BT_DKS_Shunt 1: 80 (38.5%)\n"
     ]
    }
   ],
   "source": [
    "cohort.get_percentage('Norwood_BT_DKS_Shunt')\n",
    "controls.get_percentage('Norwood_BT_DKS_Shunt')\n",
    "cases.get_percentage('Norwood_BT_DKS_Shunt')"
   ]
  },
  {
   "cell_type": "code",
   "execution_count": 199,
   "metadata": {},
   "outputs": [
    {
     "name": "stdout",
     "output_type": "stream",
     "text": [
      "Overall - Norwood_Sano_DKS_Conduit 0: 1344 (41.1%)\n",
      "Overall - Norwood_Sano_DKS_Conduit 1: 1923 (58.9%)\n",
      "Controls - Norwood_Sano_DKS_Conduit 0: 1220 (39.9%)\n",
      "Controls - Norwood_Sano_DKS_Conduit 1: 1839 (60.1%)\n",
      "Cases - Norwood_Sano_DKS_Conduit 0: 124 (59.6%)\n",
      "Cases - Norwood_Sano_DKS_Conduit 1: 84 (40.4%)\n"
     ]
    }
   ],
   "source": [
    "cohort.get_percentage('Norwood_Sano_DKS_Conduit')\n",
    "controls.get_percentage('Norwood_Sano_DKS_Conduit')\n",
    "cases.get_percentage('Norwood_Sano_DKS_Conduit')"
   ]
  },
  {
   "cell_type": "code",
   "execution_count": 200,
   "metadata": {},
   "outputs": [
    {
     "name": "stdout",
     "output_type": "stream",
     "text": [
      "Overall - Norwood_Hybrid 1: 243 (7.4%)\n",
      "Overall - Norwood_Hybrid 0: 3024 (92.6%)\n",
      "Controls - Norwood_Hybrid 1: 204 (6.7%)\n",
      "Controls - Norwood_Hybrid 0: 2855 (93.3%)\n",
      "Cases - Norwood_Hybrid 1: 39 (18.8%)\n",
      "Cases - Norwood_Hybrid 0: 169 (81.2%)\n"
     ]
    }
   ],
   "source": [
    "cohort.get_percentage('Norwood_Hybrid')\n",
    "controls.get_percentage('Norwood_Hybrid')\n",
    "cases.get_percentage('Norwood_Hybrid')"
   ]
  },
  {
   "cell_type": "code",
   "execution_count": 201,
   "metadata": {},
   "outputs": [
    {
     "name": "stdout",
     "output_type": "stream",
     "text": [
      "Overall - Norwood_Central_Shunt 0: 3244 (99.3%)\n",
      "Overall - Norwood_Central_Shunt 1: 23 (0.7%)\n",
      "Controls - Norwood_Central_Shunt 0: 3038 (99.3%)\n",
      "Controls - Norwood_Central_Shunt 1: 21 (0.7%)\n",
      "Cases - Norwood_Central_Shunt 0: 206 (99.0%)\n",
      "Cases - Norwood_Central_Shunt 1: 2 (1.0%)\n"
     ]
    }
   ],
   "source": [
    "cohort.get_percentage('Norwood_Central_Shunt')\n",
    "controls.get_percentage('Norwood_Central_Shunt')\n",
    "cases.get_percentage('Norwood_Central_Shunt')"
   ]
  },
  {
   "cell_type": "code",
   "execution_count": 202,
   "metadata": {},
   "outputs": [
    {
     "name": "stdout",
     "output_type": "stream",
     "text": [
      "Overall age_at_norwood: 5 (4, 8)\n",
      "Controls age_at_norwood: 5 (4, 8)\n",
      "Cases age_at_norwood: 6 (4, 8)\n"
     ]
    },
    {
     "data": {
      "text/plain": [
       "(6.0, 4.0, 8.0)"
      ]
     },
     "execution_count": 202,
     "metadata": {},
     "output_type": "execute_result"
    }
   ],
   "source": [
    "cohort.get_median_quantile('age_at_norwood')\n",
    "controls.get_median_quantile('age_at_norwood')\n",
    "cases.get_median_quantile('age_at_norwood')"
   ]
  },
  {
   "cell_type": "code",
   "execution_count": 203,
   "metadata": {},
   "outputs": [
    {
     "name": "stdout",
     "output_type": "stream",
     "text": [
      "Overall - avvr_at_discharge nan: 1182 (36.2%)\n",
      "Overall - avvr_at_discharge 3.0: 332 (10.2%)\n",
      "Overall - avvr_at_discharge 2.0: 810 (24.8%)\n",
      "Overall - avvr_at_discharge 1.0: 929 (28.4%)\n",
      "Overall - avvr_at_discharge 4.0: 14 (0.4%)\n",
      "Controls - avvr_at_discharge nan: 1089 (35.6%)\n",
      "Controls - avvr_at_discharge 3.0: 301 (9.8%)\n",
      "Controls - avvr_at_discharge 2.0: 765 (25.0%)\n",
      "Controls - avvr_at_discharge 1.0: 892 (29.2%)\n",
      "Controls - avvr_at_discharge 4.0: 12 (0.4%)\n",
      "Cases - avvr_at_discharge 3.0: 31 (14.9%)\n",
      "Cases - avvr_at_discharge nan: 93 (44.7%)\n",
      "Cases - avvr_at_discharge 1.0: 37 (17.8%)\n",
      "Cases - avvr_at_discharge 2.0: 45 (21.6%)\n",
      "Cases - avvr_at_discharge 4.0: 2 (1.0%)\n"
     ]
    }
   ],
   "source": [
    "#AV valve regurgitation\n",
    "cohort.get_percentage('avvr_at_discharge')\n",
    "controls.get_percentage('avvr_at_discharge')\n",
    "cases.get_percentage('avvr_at_discharge')"
   ]
  },
  {
   "cell_type": "code",
   "execution_count": 204,
   "metadata": {},
   "outputs": [
    {
     "name": "stdout",
     "output_type": "stream",
     "text": [
      "Overall - function_at_discharge 1.0: 1886 (57.7%)\n",
      "Overall - function_at_discharge nan: 1152 (35.3%)\n",
      "Overall - function_at_discharge 3.0: 55 (1.7%)\n",
      "Overall - function_at_discharge 2.0: 166 (5.1%)\n",
      "Overall - function_at_discharge 4.0: 8 (0.2%)\n",
      "Controls - function_at_discharge 1.0: 1789 (58.5%)\n",
      "Controls - function_at_discharge nan: 1063 (34.7%)\n",
      "Controls - function_at_discharge 3.0: 52 (1.7%)\n",
      "Controls - function_at_discharge 2.0: 147 (4.8%)\n",
      "Controls - function_at_discharge 4.0: 8 (0.3%)\n",
      "Cases - function_at_discharge 1.0: 97 (46.6%)\n",
      "Cases - function_at_discharge nan: 89 (42.8%)\n",
      "Cases - function_at_discharge 2.0: 19 (9.1%)\n",
      "Cases - function_at_discharge 3.0: 3 (1.4%)\n"
     ]
    }
   ],
   "source": [
    "cohort.get_percentage('function_at_discharge')\n",
    "controls.get_percentage('function_at_discharge')\n",
    "cases.get_percentage('function_at_discharge')"
   ]
  },
  {
   "cell_type": "code",
   "execution_count": 205,
   "metadata": {},
   "outputs": [
    {
     "name": "stdout",
     "output_type": "stream",
     "text": [
      "Overall - s1_postop_cath 0.0: 2578 (78.9%)\n",
      "Overall - s1_postop_cath 1.0: 661 (20.2%)\n",
      "Overall - s1_postop_cath nan: 28 (0.9%)\n",
      "Controls - s1_postop_cath 0.0: 2439 (79.7%)\n",
      "Controls - s1_postop_cath 1.0: 596 (19.5%)\n",
      "Controls - s1_postop_cath nan: 24 (0.8%)\n",
      "Cases - s1_postop_cath 0.0: 139 (66.8%)\n",
      "Cases - s1_postop_cath 1.0: 65 (31.2%)\n",
      "Cases - s1_postop_cath nan: 4 (1.9%)\n"
     ]
    }
   ],
   "source": [
    "#Required Cath during interstage\n",
    "cohort.get_percentage('s1_postop_cath')\n",
    "controls.get_percentage('s1_postop_cath')\n",
    "cases.get_percentage('s1_postop_cath')"
   ]
  },
  {
   "cell_type": "code",
   "execution_count": 206,
   "metadata": {},
   "outputs": [
    {
     "name": "stdout",
     "output_type": "stream",
     "text": [
      "Overall - syndrome_any 0: 2938 (89.9%)\n",
      "Overall - syndrome_any 1: 329 (10.1%)\n",
      "Controls - syndrome_any 0: 2762 (90.3%)\n",
      "Controls - syndrome_any 1: 297 (9.7%)\n",
      "Cases - syndrome_any 0: 176 (84.6%)\n",
      "Cases - syndrome_any 1: 32 (15.4%)\n"
     ]
    }
   ],
   "source": [
    "cohort.get_percentage('syndrome_any')\n",
    "controls.get_percentage('syndrome_any')\n",
    "cases.get_percentage('syndrome_any')"
   ]
  },
  {
   "cell_type": "code",
   "execution_count": 207,
   "metadata": {},
   "outputs": [
    {
     "name": "stdout",
     "output_type": "stream",
     "text": [
      "Overall s1d_spo2: 83 (80, 86)\n",
      "Controls s1d_spo2: 83 (80, 86)\n",
      "Cases s1d_spo2: 82 (79, 85)\n"
     ]
    },
    {
     "data": {
      "text/plain": [
       "(82.0, 79.0, 85.0)"
      ]
     },
     "execution_count": 207,
     "metadata": {},
     "output_type": "execute_result"
    }
   ],
   "source": [
    "#O2 saturation at discharge\n",
    "cohort.get_median_quantile('s1d_spo2')\n",
    "controls.get_median_quantile('s1d_spo2')\n",
    "cases.get_median_quantile('s1d_spo2')"
   ]
  },
  {
   "cell_type": "code",
   "execution_count": 208,
   "metadata": {},
   "outputs": [
    {
     "name": "stdout",
     "output_type": "stream",
     "text": [
      "Overall s1_xclamptime_min: 62 (47, 81)\n",
      "Controls s1_xclamptime_min: 61 (47, 81)\n",
      "Cases s1_xclamptime_min: 65 (45, 84)\n"
     ]
    },
    {
     "data": {
      "text/plain": [
       "(65.0, 45.25, 84.0)"
      ]
     },
     "execution_count": 208,
     "metadata": {},
     "output_type": "execute_result"
    }
   ],
   "source": [
    "#Cross clamp time\n",
    "cohort.get_median_quantile('s1_xclamptime_min')\n",
    "controls.get_median_quantile('s1_xclamptime_min')\n",
    "cases.get_median_quantile('s1_xclamptime_min')"
   ]
  },
  {
   "cell_type": "code",
   "execution_count": 209,
   "metadata": {},
   "outputs": [],
   "source": [
    "# cohort.get_percentage('Norwood_DKS_Shunt')\n",
    "# controls.get_percentage('Norwood_DKS_Shunt')\n",
    "# cases.get_percentage('Norwood_DKS_Shunt')"
   ]
  },
  {
   "cell_type": "code",
   "execution_count": 210,
   "metadata": {},
   "outputs": [],
   "source": [
    "# cohort.get_percentage('Norwood_Sano')\n",
    "# controls.get_percentage('Norwood_Sano')\n",
    "# cases.get_percentage('Norwood_Sano')"
   ]
  },
  {
   "cell_type": "code",
   "execution_count": 211,
   "metadata": {},
   "outputs": [],
   "source": [
    "# cohort.get_percentage('Norwood_DKS_Conduit')\n",
    "# controls.get_percentage('Norwood_DKS_Conduit')\n",
    "# cases.get_percentage('Norwood_DKS_Conduit')"
   ]
  },
  {
   "cell_type": "code",
   "execution_count": 212,
   "metadata": {},
   "outputs": [],
   "source": [
    "from scipy.stats import ttest_ind_from_stats as t_test\n",
    "def compute_pvalue(cases, controls):\n",
    "    for f in ['gestational_age', 'birthweight']:\n",
    "        _, p_value = t_test(mean1=cases.get_mean_std(f)[0], \n",
    "               std1=cases.get_mean_std(f)[1],\n",
    "               nobs1=cases.total_sample_size, \n",
    "               mean2=controls.get_mean_std(f)[0], \n",
    "               std2=controls.get_mean_std(f)[1],\n",
    "               nobs2=controls.total_sample_size) \n",
    "        print(f, p_value)"
   ]
  },
  {
   "cell_type": "code",
   "execution_count": 213,
   "metadata": {},
   "outputs": [
    {
     "data": {
      "text/plain": [
       "37"
      ]
     },
     "execution_count": 213,
     "metadata": {},
     "output_type": "execute_result"
    }
   ],
   "source": [
    "cases.get_mean_std('gestational_age')[0]"
   ]
  },
  {
   "cell_type": "code",
   "execution_count": 214,
   "metadata": {},
   "outputs": [
    {
     "name": "stdout",
     "output_type": "stream",
     "text": [
      "gestational_age 4.2169100091511223e-20\n",
      "birthweight 1.0\n"
     ]
    }
   ],
   "source": [
    "compute_pvalue(cases,controls)"
   ]
  },
  {
   "cell_type": "code",
   "execution_count": 215,
   "metadata": {},
   "outputs": [],
   "source": [
    "# def get_feature_distribution(df, feature):\n",
    "#     median, lcq_low, lcq_high = get_median_quantile(df,feature)\n",
    "#     print(' %d (%d, %d)' % (median, lcq_low, lcq_high))\n",
    "\n",
    "# def print_feature_distribution(feature):   \n",
    "#     print(\"Overal\", get_feature_distribution(cohort,feature))\n",
    "#     print(\"Cases\", get_feature_distribution(cases, feature))\n",
    "#     print(\"Controls\", get_feature_distribution(controls, feature))"
   ]
  },
  {
   "cell_type": "code",
   "execution_count": 216,
   "metadata": {},
   "outputs": [],
   "source": [
    "# feature = 'gestational_age'\n",
    "# median, lcq_low, lcq_high = get_median_quantile(df,feature)\n",
    "# print('%d (%d, %d)' % (median, lcq_low, lcq_high))"
   ]
  },
  {
   "cell_type": "markdown",
   "metadata": {},
   "source": [
    "### Build summary plots\n",
    "Generating explanations for multiple iterations and condensing in one plot."
   ]
  },
  {
   "cell_type": "code",
   "execution_count": 217,
   "metadata": {},
   "outputs": [],
   "source": [
    "result_path = Path('./result/benchmark')"
   ]
  },
  {
   "cell_type": "code",
   "execution_count": 218,
   "metadata": {},
   "outputs": [
    {
     "data": {
      "text/plain": [
       "(52260, 180)"
      ]
     },
     "execution_count": 218,
     "metadata": {},
     "output_type": "execute_result"
    }
   ],
   "source": [
    "list_shap_values = []\n",
    "list_train_sets = []\n",
    "# list_test_sets = []\n",
    "\n",
    "for split in range(0,5):\n",
    "    for fold in range (0,5):\n",
    "        shap_values = np.load(result_path / 'lightGBM_shap_values_on_train_split_{}_run_fold_{}.npy'.format(split,fold))\n",
    "#         X_test = np.load(result_path / 'X_test_on_test_split_{}.npy'.format(split))\n",
    "        X_train = np.load(result_path / 'X_train_on_train_split_{}_run_fold_{}.npy'.format(split, fold))\n",
    "        list_shap_values.append(shap_values)\n",
    "#         list_test_sets.append(X_test)\n",
    "        list_train_sets.append(X_train)\n",
    "\n",
    "    # test_set = list_test_sets[0]\n",
    "train_set = list_train_sets[0]\n",
    "shap_values = np.array(list_shap_values[0])\n",
    "for i in range(1,len(list_train_sets)):\n",
    "#     test_set = np.concatenate((test_set,list_test_sets[i]),axis=0)\n",
    "    train_set = np.concatenate((train_set,list_train_sets[i]),axis=0)\n",
    "    shap_values = np.concatenate((shap_values,np.array(list_shap_values[i])),axis=1)\n",
    "#bringing back variable names\n",
    "# X_test = pd.DataFrame(test_set)\n",
    "X_train = pd.DataFrame(train_set)\n",
    "X_train.shape"
   ]
  },
  {
   "cell_type": "code",
   "execution_count": 219,
   "metadata": {},
   "outputs": [
    {
     "data": {
      "text/plain": [
       "(52260, 180)"
      ]
     },
     "execution_count": 219,
     "metadata": {},
     "output_type": "execute_result"
    }
   ],
   "source": [
    "DATA_PATH = './data'\n",
    "df = pd.read_csv(\n",
    "        Path(DATA_PATH) / 'processed' / 'merged_data_removed_high_missing_features.csv') #'merged_data_removed_high_missing_features.csv'\n",
    "feature_names = list(df.drop(['site_deid', 'subject_deid', 'followup_time', 'interstage_mortality'], axis=1).columns)\n",
    "X_train = pd.DataFrame(train_set, columns = feature_names)\n",
    "X_train.shape"
   ]
  },
  {
   "cell_type": "code",
   "execution_count": 220,
   "metadata": {},
   "outputs": [
    {
     "name": "stdout",
     "output_type": "stream",
     "text": [
      "64\n"
     ]
    }
   ],
   "source": [
    "for idx, f in enumerate(feature_names):\n",
    "    if f == 's1_cpbtime_min':\n",
    "        print(idx)"
   ]
  },
  {
   "cell_type": "code",
   "execution_count": 221,
   "metadata": {},
   "outputs": [
    {
     "name": "stderr",
     "output_type": "stream",
     "text": [
      "Passing parameters norm and vmin/vmax simultaneously is deprecated since 3.3 and will become an error two minor releases later. Please pass vmin/vmax directly to the norm when creating it.\n"
     ]
    },
    {
     "data": {
      "image/png": "[encoded data removed]",
      "text/plain": [
       "<Figure size 540x360 with 2 Axes>"
      ]
     },
     "metadata": {
      "needs_background": "light"
     },
     "output_type": "display_data"
    }
   ],
   "source": [
    "shap.dependence_plot(64, shap_values[1], X_train)"
   ]
  },
  {
   "cell_type": "code",
   "execution_count": 222,
   "metadata": {},
   "outputs": [
    {
     "data": {
      "text/plain": [
       "0        199.0\n",
       "1        164.0\n",
       "2        156.0\n",
       "3         74.0\n",
       "4        165.0\n",
       "         ...  \n",
       "52255    130.0\n",
       "52256    189.0\n",
       "52257    115.0\n",
       "52258    180.0\n",
       "52259    246.0\n",
       "Name: s1_cpbtime_min, Length: 52260, dtype: float64"
      ]
     },
     "execution_count": 222,
     "metadata": {},
     "output_type": "execute_result"
    }
   ],
   "source": [
    "X_train.iloc[:,64]"
   ]
  },
  {
   "cell_type": "code",
   "execution_count": 223,
   "metadata": {},
   "outputs": [
    {
     "data": {
      "text/plain": [
       "<Figure size 720x1008 with 0 Axes>"
      ]
     },
     "metadata": {},
     "output_type": "display_data"
    }
   ],
   "source": [
    "fig = plt.figure(figsize=(10,14))\n",
    "#creating explanation plot for the whole experiment, the first dimension from shap_values indicate the class we are predicting (0=0, 1=1)\n",
    "# shap.summary_plot(shap_values[1], X_train)"
   ]
  },
  {
   "cell_type": "code",
   "execution_count": 224,
   "metadata": {
    "code_folding": []
   },
   "outputs": [],
   "source": [
    "def replace_names(my_list, source, target):\n",
    "    for i, item in enumerate(my_list):\n",
    "        if item == source:\n",
    "            my_list[i] = target\n",
    "    return my_list\n",
    "            \n",
    "def formulate_feature_name(feature_list):\n",
    "    feature_list = replace_names(feature_list, 'digoxin_at_dc', 'Digoxin use at discharge')\n",
    "    feature_list = replace_names(feature_list, 'length_at_discharge', 'Length at discharge')\n",
    "    feature_list = replace_names(feature_list, 'year', 'Operative year')\n",
    "    feature_list = replace_names(feature_list, 's1_postop_cath', 'Interstage catheterization')\n",
    "    feature_list = replace_names(feature_list, 'norwood_type', 'Norwood with BTT shunt')\n",
    "    feature_list = replace_names(feature_list, 's1_cpbtime_min', 'CBP time')\n",
    "    feature_list = replace_names(feature_list, 'gestational_age', 'Gestational age')\n",
    "    feature_list = replace_names(feature_list, 'sex', 'Female')\n",
    "    feature_list = replace_names(feature_list, 'age_s1_admit', 'Not born at stage I palliation hospital')\n",
    "    # changed \n",
    "    feature_list = replace_names(feature_list, 'antibiotics_at_dc', 'Antibiotic use at discharge')\n",
    "    feature_list = replace_names(feature_list, 'age_at_stage1_discharge', 'Age at discharge')\n",
    "    feature_list = replace_names(feature_list, 's1dtarcal', 'Target caloric density at discharge')\n",
    "    feature_list = replace_names(feature_list, 's1_xclamptime_min', 'Stage I cross-clamp time')\n",
    "    feature_list = replace_names(feature_list, 's1d_spo2', 'Oxygen saturation at discharge')\n",
    "#     feature_list =  replace_names(feature_list, 's1d_followup', 'Interstage follow-up not at stage I hospital')\n",
    "    feature_list = replace_names(feature_list, 's1_circarresttime_min', 'Stage I circulatory arrest time')\n",
    "    feature_list = replace_names(feature_list, 's1d_nut_typ', 'Formula feeds')\n",
    "    feature_list = replace_names(feature_list, 'age_at_norwood', 'Age at stage I surgery')\n",
    "    feature_list = replace_names(feature_list, 'avvr_at_discharge', 'AVVI at discharg') #Degree of AV valve regurgitation at discharge\n",
    "    feature_list = replace_names(feature_list, 'nutrition_route', 'Not taking oral feeds')\n",
    "    feature_list = replace_names(feature_list, 'birthweight', 'Birth weight')\n",
    "    feature_list = replace_names(feature_list, 'diagnosis', 'Diagnosis')\n",
    "    feature_list = replace_names(feature_list, 'age_postop_feeds_start', 'Age when feeds restarted post-op')\n",
    "    feature_list = replace_names(feature_list, 'age_at_extubation', 'Age at first extubation post-op')\n",
    "    feature_list = replace_names(feature_list, 's1comp_arr', 'Post-op arrhythmia')\n",
    "    feature_list = replace_names(feature_list, 'Norwood_Sano_DKS_Conduit', 'Norwood/Sano, DKS/Conduit')\n",
    "    feature_list = replace_names(feature_list, 'Norwood_Hybrid', 'Hybrid')\n",
    "#     feature_list = replace_names(feature_list, 'race', 'Race')\n",
    "    return feature_list\n",
    "            "
   ]
  },
  {
   "cell_type": "code",
   "execution_count": 225,
   "metadata": {},
   "outputs": [],
   "source": [
    "name_map = formulate_feature_name(feature_names)\n",
    "X_train = pd.DataFrame(train_set, columns = name_map)"
   ]
  },
  {
   "cell_type": "code",
   "execution_count": 226,
   "metadata": {
    "code_folding": []
   },
   "outputs": [
    {
     "data": {
      "image/png": "[encoded data removed]",
      "text/plain": [
       "<Figure size 576x684 with 1 Axes>"
      ]
     },
     "metadata": {
      "needs_background": "light"
     },
     "output_type": "display_data"
    }
   ],
   "source": [
    "# figure with feature formated for display in publication\n",
    "plt.rcParams.update({'font.family':'Arial'})\n",
    "f = plt.figure(figsize=(4,6))\n",
    "shap.summary_plot(shap_values[1], X_train, plot_type='bar',\n",
    "                        max_display=20, plot_size=\"auto\", show=False)\n",
    "plt.savefig(\"result/raw_figures/lgbm_summary_bar.pdf\", dpi=400, bbox_inches='tight')\n",
    "plt.savefig(\"result/raw_figures/lgbm_summary_bar.eps\", dpi=400, bbox_inches='tight')\n",
    "plt.show()"
   ]
  },
  {
   "cell_type": "code",
   "execution_count": 227,
   "metadata": {},
   "outputs": [
    {
     "data": {
      "image/png": "[encoded data removed]",
      "text/plain": [
       "<Figure size 576x684 with 2 Axes>"
      ]
     },
     "metadata": {
      "needs_background": "light"
     },
     "output_type": "display_data"
    }
   ],
   "source": [
    "f = plt.figure(figsize=(5,6))\n",
    "shap.summary_plot(shap_values[1], X_train,max_display=20, plot_size=\"auto\", show=False)\n",
    "plt.savefig(\"result/raw_figures/lgbm_summary_dot.pdf\", dpi=400, bbox_inches='tight')\n",
    "plt.savefig(\"result/raw_figures/lgbm_summary_dot.eps\", dpi=400, bbox_inches='tight')\n",
    "plt.show()"
   ]
  },
  {
   "cell_type": "code",
   "execution_count": 228,
   "metadata": {},
   "outputs": [
    {
     "data": {
      "text/html": [
       "<div>\n",
       "<style scoped>\n",
       "    .dataframe tbody tr th:only-of-type {\n",
       "        vertical-align: middle;\n",
       "    }\n",
       "\n",
       "    .dataframe tbody tr th {\n",
       "        vertical-align: top;\n",
       "    }\n",
       "\n",
       "    .dataframe thead th {\n",
       "        text-align: right;\n",
       "    }\n",
       "</style>\n",
       "<table border=\"1\" class=\"dataframe\">\n",
       "  <thead>\n",
       "    <tr style=\"text-align: right;\">\n",
       "      <th></th>\n",
       "      <th>fetal_diagnosis</th>\n",
       "      <th>fetal_intervention</th>\n",
       "      <th>fetalintervention_aov</th>\n",
       "      <th>fetalintervention_asd</th>\n",
       "      <th>fetalintervention_pm</th>\n",
       "      <th>fetalintervention_other</th>\n",
       "      <th>Operative year</th>\n",
       "      <th>anomalies_cns</th>\n",
       "      <th>anomalies_gi</th>\n",
       "      <th>anomalies_renal_gu</th>\n",
       "      <th>...</th>\n",
       "      <th>Norwood/Sano, DKS/Conduit</th>\n",
       "      <th>s1d_followup_Surgical_Center</th>\n",
       "      <th>s1d_followup_Outside_Center</th>\n",
       "      <th>s1d_followup_comb</th>\n",
       "      <th>s1d_followup_other</th>\n",
       "      <th>hlhs_type_missing_indicator</th>\n",
       "      <th>hlhs_type_MA_AA</th>\n",
       "      <th>hlhs_type_MS_AA</th>\n",
       "      <th>hlhs_type_MA_AS</th>\n",
       "      <th>hlhs_type_MS_AS</th>\n",
       "    </tr>\n",
       "  </thead>\n",
       "  <tbody>\n",
       "    <tr>\n",
       "      <th>0</th>\n",
       "      <td>1.0</td>\n",
       "      <td>0.0</td>\n",
       "      <td>0.0</td>\n",
       "      <td>0.0</td>\n",
       "      <td>0.0</td>\n",
       "      <td>0.0</td>\n",
       "      <td>2019.0</td>\n",
       "      <td>0.0</td>\n",
       "      <td>0.0</td>\n",
       "      <td>0.0</td>\n",
       "      <td>...</td>\n",
       "      <td>0.0</td>\n",
       "      <td>1.0</td>\n",
       "      <td>0.0</td>\n",
       "      <td>0.0</td>\n",
       "      <td>0.0</td>\n",
       "      <td>1.0</td>\n",
       "      <td>0.0</td>\n",
       "      <td>0.0</td>\n",
       "      <td>0.0</td>\n",
       "      <td>0.0</td>\n",
       "    </tr>\n",
       "    <tr>\n",
       "      <th>1</th>\n",
       "      <td>1.0</td>\n",
       "      <td>0.0</td>\n",
       "      <td>0.0</td>\n",
       "      <td>0.0</td>\n",
       "      <td>0.0</td>\n",
       "      <td>0.0</td>\n",
       "      <td>2015.0</td>\n",
       "      <td>0.0</td>\n",
       "      <td>0.0</td>\n",
       "      <td>0.0</td>\n",
       "      <td>...</td>\n",
       "      <td>1.0</td>\n",
       "      <td>0.0</td>\n",
       "      <td>1.0</td>\n",
       "      <td>0.0</td>\n",
       "      <td>0.0</td>\n",
       "      <td>0.0</td>\n",
       "      <td>1.0</td>\n",
       "      <td>0.0</td>\n",
       "      <td>0.0</td>\n",
       "      <td>0.0</td>\n",
       "    </tr>\n",
       "    <tr>\n",
       "      <th>2</th>\n",
       "      <td>1.0</td>\n",
       "      <td>0.0</td>\n",
       "      <td>0.0</td>\n",
       "      <td>0.0</td>\n",
       "      <td>0.0</td>\n",
       "      <td>0.0</td>\n",
       "      <td>2018.0</td>\n",
       "      <td>0.0</td>\n",
       "      <td>0.0</td>\n",
       "      <td>0.0</td>\n",
       "      <td>...</td>\n",
       "      <td>1.0</td>\n",
       "      <td>1.0</td>\n",
       "      <td>0.0</td>\n",
       "      <td>0.0</td>\n",
       "      <td>0.0</td>\n",
       "      <td>0.0</td>\n",
       "      <td>0.0</td>\n",
       "      <td>0.0</td>\n",
       "      <td>0.0</td>\n",
       "      <td>1.0</td>\n",
       "    </tr>\n",
       "    <tr>\n",
       "      <th>3</th>\n",
       "      <td>1.0</td>\n",
       "      <td>0.0</td>\n",
       "      <td>0.0</td>\n",
       "      <td>0.0</td>\n",
       "      <td>0.0</td>\n",
       "      <td>0.0</td>\n",
       "      <td>2012.0</td>\n",
       "      <td>0.0</td>\n",
       "      <td>0.0</td>\n",
       "      <td>0.0</td>\n",
       "      <td>...</td>\n",
       "      <td>0.0</td>\n",
       "      <td>0.0</td>\n",
       "      <td>0.0</td>\n",
       "      <td>1.0</td>\n",
       "      <td>0.0</td>\n",
       "      <td>1.0</td>\n",
       "      <td>0.0</td>\n",
       "      <td>0.0</td>\n",
       "      <td>0.0</td>\n",
       "      <td>0.0</td>\n",
       "    </tr>\n",
       "    <tr>\n",
       "      <th>4</th>\n",
       "      <td>1.0</td>\n",
       "      <td>0.0</td>\n",
       "      <td>0.0</td>\n",
       "      <td>0.0</td>\n",
       "      <td>0.0</td>\n",
       "      <td>0.0</td>\n",
       "      <td>2011.0</td>\n",
       "      <td>0.0</td>\n",
       "      <td>0.0</td>\n",
       "      <td>0.0</td>\n",
       "      <td>...</td>\n",
       "      <td>1.0</td>\n",
       "      <td>0.0</td>\n",
       "      <td>0.0</td>\n",
       "      <td>1.0</td>\n",
       "      <td>0.0</td>\n",
       "      <td>0.0</td>\n",
       "      <td>1.0</td>\n",
       "      <td>0.0</td>\n",
       "      <td>0.0</td>\n",
       "      <td>0.0</td>\n",
       "    </tr>\n",
       "    <tr>\n",
       "      <th>...</th>\n",
       "      <td>...</td>\n",
       "      <td>...</td>\n",
       "      <td>...</td>\n",
       "      <td>...</td>\n",
       "      <td>...</td>\n",
       "      <td>...</td>\n",
       "      <td>...</td>\n",
       "      <td>...</td>\n",
       "      <td>...</td>\n",
       "      <td>...</td>\n",
       "      <td>...</td>\n",
       "      <td>...</td>\n",
       "      <td>...</td>\n",
       "      <td>...</td>\n",
       "      <td>...</td>\n",
       "      <td>...</td>\n",
       "      <td>...</td>\n",
       "      <td>...</td>\n",
       "      <td>...</td>\n",
       "      <td>...</td>\n",
       "      <td>...</td>\n",
       "    </tr>\n",
       "    <tr>\n",
       "      <th>52255</th>\n",
       "      <td>1.0</td>\n",
       "      <td>0.0</td>\n",
       "      <td>0.0</td>\n",
       "      <td>0.0</td>\n",
       "      <td>0.0</td>\n",
       "      <td>0.0</td>\n",
       "      <td>2012.0</td>\n",
       "      <td>0.0</td>\n",
       "      <td>0.0</td>\n",
       "      <td>0.0</td>\n",
       "      <td>...</td>\n",
       "      <td>0.0</td>\n",
       "      <td>1.0</td>\n",
       "      <td>0.0</td>\n",
       "      <td>0.0</td>\n",
       "      <td>0.0</td>\n",
       "      <td>0.0</td>\n",
       "      <td>0.0</td>\n",
       "      <td>0.0</td>\n",
       "      <td>0.0</td>\n",
       "      <td>1.0</td>\n",
       "    </tr>\n",
       "    <tr>\n",
       "      <th>52256</th>\n",
       "      <td>1.0</td>\n",
       "      <td>0.0</td>\n",
       "      <td>0.0</td>\n",
       "      <td>0.0</td>\n",
       "      <td>0.0</td>\n",
       "      <td>0.0</td>\n",
       "      <td>2014.0</td>\n",
       "      <td>0.0</td>\n",
       "      <td>0.0</td>\n",
       "      <td>0.0</td>\n",
       "      <td>...</td>\n",
       "      <td>1.0</td>\n",
       "      <td>1.0</td>\n",
       "      <td>0.0</td>\n",
       "      <td>0.0</td>\n",
       "      <td>0.0</td>\n",
       "      <td>0.0</td>\n",
       "      <td>1.0</td>\n",
       "      <td>0.0</td>\n",
       "      <td>0.0</td>\n",
       "      <td>0.0</td>\n",
       "    </tr>\n",
       "    <tr>\n",
       "      <th>52257</th>\n",
       "      <td>1.0</td>\n",
       "      <td>0.0</td>\n",
       "      <td>0.0</td>\n",
       "      <td>0.0</td>\n",
       "      <td>0.0</td>\n",
       "      <td>0.0</td>\n",
       "      <td>2014.0</td>\n",
       "      <td>0.0</td>\n",
       "      <td>0.0</td>\n",
       "      <td>0.0</td>\n",
       "      <td>...</td>\n",
       "      <td>1.0</td>\n",
       "      <td>0.0</td>\n",
       "      <td>1.0</td>\n",
       "      <td>0.0</td>\n",
       "      <td>0.0</td>\n",
       "      <td>0.0</td>\n",
       "      <td>0.0</td>\n",
       "      <td>1.0</td>\n",
       "      <td>0.0</td>\n",
       "      <td>0.0</td>\n",
       "    </tr>\n",
       "    <tr>\n",
       "      <th>52258</th>\n",
       "      <td>0.0</td>\n",
       "      <td>0.0</td>\n",
       "      <td>0.0</td>\n",
       "      <td>0.0</td>\n",
       "      <td>0.0</td>\n",
       "      <td>0.0</td>\n",
       "      <td>2013.0</td>\n",
       "      <td>0.0</td>\n",
       "      <td>0.0</td>\n",
       "      <td>0.0</td>\n",
       "      <td>...</td>\n",
       "      <td>1.0</td>\n",
       "      <td>1.0</td>\n",
       "      <td>0.0</td>\n",
       "      <td>0.0</td>\n",
       "      <td>0.0</td>\n",
       "      <td>0.0</td>\n",
       "      <td>1.0</td>\n",
       "      <td>0.0</td>\n",
       "      <td>0.0</td>\n",
       "      <td>0.0</td>\n",
       "    </tr>\n",
       "    <tr>\n",
       "      <th>52259</th>\n",
       "      <td>1.0</td>\n",
       "      <td>0.0</td>\n",
       "      <td>0.0</td>\n",
       "      <td>0.0</td>\n",
       "      <td>0.0</td>\n",
       "      <td>0.0</td>\n",
       "      <td>2010.0</td>\n",
       "      <td>0.0</td>\n",
       "      <td>0.0</td>\n",
       "      <td>0.0</td>\n",
       "      <td>...</td>\n",
       "      <td>0.0</td>\n",
       "      <td>1.0</td>\n",
       "      <td>0.0</td>\n",
       "      <td>0.0</td>\n",
       "      <td>0.0</td>\n",
       "      <td>1.0</td>\n",
       "      <td>0.0</td>\n",
       "      <td>0.0</td>\n",
       "      <td>0.0</td>\n",
       "      <td>0.0</td>\n",
       "    </tr>\n",
       "  </tbody>\n",
       "</table>\n",
       "<p>52260 rows × 180 columns</p>\n",
       "</div>"
      ],
      "text/plain": [
       "       fetal_diagnosis  fetal_intervention  fetalintervention_aov  \\\n",
       "0                  1.0                 0.0                    0.0   \n",
       "1                  1.0                 0.0                    0.0   \n",
       "2                  1.0                 0.0                    0.0   \n",
       "3                  1.0                 0.0                    0.0   \n",
       "4                  1.0                 0.0                    0.0   \n",
       "...                ...                 ...                    ...   \n",
       "52255              1.0                 0.0                    0.0   \n",
       "52256              1.0                 0.0                    0.0   \n",
       "52257              1.0                 0.0                    0.0   \n",
       "52258              0.0                 0.0                    0.0   \n",
       "52259              1.0                 0.0                    0.0   \n",
       "\n",
       "       fetalintervention_asd  fetalintervention_pm  fetalintervention_other  \\\n",
       "0                        0.0                   0.0                      0.0   \n",
       "1                        0.0                   0.0                      0.0   \n",
       "2                        0.0                   0.0                      0.0   \n",
       "3                        0.0                   0.0                      0.0   \n",
       "4                        0.0                   0.0                      0.0   \n",
       "...                      ...                   ...                      ...   \n",
       "52255                    0.0                   0.0                      0.0   \n",
       "52256                    0.0                   0.0                      0.0   \n",
       "52257                    0.0                   0.0                      0.0   \n",
       "52258                    0.0                   0.0                      0.0   \n",
       "52259                    0.0                   0.0                      0.0   \n",
       "\n",
       "       Operative year  anomalies_cns  anomalies_gi  anomalies_renal_gu  ...  \\\n",
       "0              2019.0            0.0           0.0                 0.0  ...   \n",
       "1              2015.0            0.0           0.0                 0.0  ...   \n",
       "2              2018.0            0.0           0.0                 0.0  ...   \n",
       "3              2012.0            0.0           0.0                 0.0  ...   \n",
       "4              2011.0            0.0           0.0                 0.0  ...   \n",
       "...               ...            ...           ...                 ...  ...   \n",
       "52255          2012.0            0.0           0.0                 0.0  ...   \n",
       "52256          2014.0            0.0           0.0                 0.0  ...   \n",
       "52257          2014.0            0.0           0.0                 0.0  ...   \n",
       "52258          2013.0            0.0           0.0                 0.0  ...   \n",
       "52259          2010.0            0.0           0.0                 0.0  ...   \n",
       "\n",
       "       Norwood/Sano, DKS/Conduit  s1d_followup_Surgical_Center  \\\n",
       "0                            0.0                           1.0   \n",
       "1                            1.0                           0.0   \n",
       "2                            1.0                           1.0   \n",
       "3                            0.0                           0.0   \n",
       "4                            1.0                           0.0   \n",
       "...                          ...                           ...   \n",
       "52255                        0.0                           1.0   \n",
       "52256                        1.0                           1.0   \n",
       "52257                        1.0                           0.0   \n",
       "52258                        1.0                           1.0   \n",
       "52259                        0.0                           1.0   \n",
       "\n",
       "       s1d_followup_Outside_Center  s1d_followup_comb  s1d_followup_other  \\\n",
       "0                              0.0                0.0                 0.0   \n",
       "1                              1.0                0.0                 0.0   \n",
       "2                              0.0                0.0                 0.0   \n",
       "3                              0.0                1.0                 0.0   \n",
       "4                              0.0                1.0                 0.0   \n",
       "...                            ...                ...                 ...   \n",
       "52255                          0.0                0.0                 0.0   \n",
       "52256                          0.0                0.0                 0.0   \n",
       "52257                          1.0                0.0                 0.0   \n",
       "52258                          0.0                0.0                 0.0   \n",
       "52259                          0.0                0.0                 0.0   \n",
       "\n",
       "       hlhs_type_missing_indicator  hlhs_type_MA_AA  hlhs_type_MS_AA  \\\n",
       "0                              1.0              0.0              0.0   \n",
       "1                              0.0              1.0              0.0   \n",
       "2                              0.0              0.0              0.0   \n",
       "3                              1.0              0.0              0.0   \n",
       "4                              0.0              1.0              0.0   \n",
       "...                            ...              ...              ...   \n",
       "52255                          0.0              0.0              0.0   \n",
       "52256                          0.0              1.0              0.0   \n",
       "52257                          0.0              0.0              1.0   \n",
       "52258                          0.0              1.0              0.0   \n",
       "52259                          1.0              0.0              0.0   \n",
       "\n",
       "       hlhs_type_MA_AS  hlhs_type_MS_AS  \n",
       "0                  0.0              0.0  \n",
       "1                  0.0              0.0  \n",
       "2                  0.0              1.0  \n",
       "3                  0.0              0.0  \n",
       "4                  0.0              0.0  \n",
       "...                ...              ...  \n",
       "52255              0.0              1.0  \n",
       "52256              0.0              0.0  \n",
       "52257              0.0              0.0  \n",
       "52258              0.0              0.0  \n",
       "52259              0.0              0.0  \n",
       "\n",
       "[52260 rows x 180 columns]"
      ]
     },
     "execution_count": 228,
     "metadata": {},
     "output_type": "execute_result"
    }
   ],
   "source": [
    "X_train"
   ]
  },
  {
   "cell_type": "code",
   "execution_count": 229,
   "metadata": {},
   "outputs": [
    {
     "name": "stdout",
     "output_type": "stream",
     "text": [
      "20.400 (16.758-24.042) \n"
     ]
    }
   ],
   "source": [
    "import numpy as np\n",
    "import scipy.stats as st\n",
    "\n",
    "#define sample data\n",
    "data = [12, 12, 13, 13, 15, 16, 17, 22, 23, 25, 26, 27, 28, 28, 29]\n",
    "\n",
    "#create 95% confidence interval for population mean weight\n",
    "confidence_interval= st.t.interval(alpha=0.95, df=len(data)-1, loc=np.mean(data), scale=st.sem(data))\n",
    "print('%.3f (%.3f-%.3f) ' % (np.mean(data), confidence_interval[0],confidence_interval[1]))"
   ]
  },
  {
   "cell_type": "code",
   "execution_count": 230,
   "metadata": {},
   "outputs": [
    {
     "data": {
      "text/plain": [
       "16.75776979778498"
      ]
     },
     "execution_count": 230,
     "metadata": {},
     "output_type": "execute_result"
    }
   ],
   "source": [
    "confidence_interval[0]"
   ]
  },
  {
   "cell_type": "code",
   "execution_count": 231,
   "metadata": {},
   "outputs": [],
   "source": [
    "a = []\n",
    "data = ['12', 12, 13, 13, 15, 16, 17, 22, 23, 25, 26, 27, 28, 28, 29]\n",
    "a.extend(data)\n",
    "a.extend(data)"
   ]
  }
 ],
 "metadata": {
  "kernelspec": {
   "display_name": "Python 3",
   "language": "python",
   "name": "python3"
  },
  "language_info": {
   "codemirror_mode": {
    "name": "ipython",
    "version": 3
   },
   "file_extension": ".py",
   "mimetype": "text/x-python",
   "name": "python",
   "nbconvert_exporter": "python",
   "pygments_lexer": "ipython3",
   "version": "3.6.6"
  },
  "toc": {
   "base_numbering": 1,
   "nav_menu": {},
   "number_sections": true,
   "sideBar": true,
   "skip_h1_title": false,
   "title_cell": "Table of Contents",
   "title_sidebar": "Contents",
   "toc_cell": false,
   "toc_position": {},
   "toc_section_display": true,
   "toc_window_display": false
  }
 },
 "nbformat": 4,
 "nbformat_minor": 2
}
